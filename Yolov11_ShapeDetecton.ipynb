{
 "cells": [
  {
   "cell_type": "markdown",
   "metadata": {},
   "source": [
    "**Step 01 # Import All the Requried Libraries**"
   ]
  },
  {
   "cell_type": "code",
   "execution_count": null,
   "metadata": {},
   "outputs": [],
   "source": [
    "import os\n",
    "import ultralytics\n",
    "ultralytics.checks()\n"
   ]
  },
  {
   "cell_type": "code",
   "execution_count": null,
   "metadata": {},
   "outputs": [],
   "source": [
    "from ultralytics import YOLO\n",
    "from IPython.display import Image"
   ]
  },
  {
   "cell_type": "markdown",
   "metadata": {},
   "source": [
    "**STEP 2: LOAD AND VERIFY DATASET**"
   ]
  },
  {
   "cell_type": "code",
   "execution_count": null,
   "metadata": {},
   "outputs": [],
   "source": [
    "\"\"\"\n",
    "correct format of dataset that will be compatiable with Yolov11\n",
    "│── images\n",
    "│   ├── train (contains training images)\n",
    "│   ├── test (contains test images)\n",
    "│   ├── val    (contains validation images)\n",
    "│── labels\n",
    "│   ├── train  (contains corresponding labels in YOLO format)\n",
    "│   ├── test    (contains corresponding labels in YOLO format)\n",
    "│   ├── val    (contains corresponding labels in YOLO format)\n",
    "│── data.yaml\n",
    "\"\"\""
   ]
  },
  {
   "cell_type": "code",
   "execution_count": null,
   "metadata": {},
   "outputs": [],
   "source": [
    "yaml_content = \"\"\"train: /content/dataset1/images/train\n",
    "val: /content/dataset1/images/val\n",
    "nc: 1\n",
    "names: ['rectangle']\n",
    "\"\"\"\n",
    "\n",
    "with open(\"/content/dataset1/data.yaml\", \"w\") as f:\n",
    "    f.write(yaml_content)\n",
    "\n",
    "print(\"✅ data.yaml file created successfully!\")"
   ]
  },
  {
   "cell_type": "code",
   "execution_count": null,
   "metadata": {},
   "outputs": [],
   "source": [
    "\n",
    "dataset_path = \"dataset\"\n",
    "\n",
    "# Check if required folders exist\n",
    "required_folders = [\"images/train\", \"images/val\", \"labels/train\", \"labels/val\"]\n",
    "missing_folders = [folder for folder in required_folders if not os.path.exists(os.path.join(dataset_path, folder))]\n",
    "\n",
    "if missing_folders:\n",
    "    print(f\"❌ Missing required folders: {missing_folders}\")\n",
    "else:\n",
    "    print(\"✅ Required folders exist.\")\n",
    "\n",
    "# Check if images and labels match\n",
    "train_images = os.listdir(os.path.join(dataset_path, \"images/train\"))\n",
    "train_labels = os.listdir(os.path.join(dataset_path, \"labels/train\"))\n",
    "val_images = os.listdir(os.path.join(dataset_path, \"images/val\"))\n",
    "val_labels = os.listdir(os.path.join(dataset_path, \"labels/val\"))\n",
    "\n",
    "print(f\"📂 Train Images: {len(train_images)}, Train Labels: {len(train_labels)}\")\n",
    "print(f\"📂 Val Images: {len(val_images)}, Val Labels: {len(val_labels)}\")\n",
    "\n",
    "# Check if data.yaml exists\n",
    "if os.path.exists(os.path.join(dataset_path, \"data.yaml\")):\n",
    "    print(\"✅ data.yaml file found!\")\n",
    "else:\n",
    "    print(\"❌ data.yaml file is missing!\")\n",
    "\n"
   ]
  }
 ],
 "metadata": {
  "kernelspec": {
   "display_name": "venv",
   "language": "python",
   "name": "python3"
  },
  "language_info": {
   "name": "python",
   "version": "3.12.9"
  }
 },
 "nbformat": 4,
 "nbformat_minor": 2
}
